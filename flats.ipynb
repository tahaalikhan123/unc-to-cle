{
 "cells": [
  {
   "cell_type": "code",
   "execution_count": 1,
   "id": "3ad36adb-1385-4c35-a071-cec71dfb1554",
   "metadata": {},
   "outputs": [],
   "source": [
    "import pandas as pd\n",
    "\n",
    "# Load the dataset\n",
    "file_path = 'surat_uncleaned.csv'\n",
    "df = pd.read_csv(file_path)"
   ]
  },
  {
   "cell_type": "code",
   "execution_count": 2,
   "id": "d8d8ae43-5c63-459d-854a-e008f2b2398f",
   "metadata": {},
   "outputs": [
    {
     "name": "stdout",
     "output_type": "stream",
     "text": [
      "                                       property_name areaWithType square_feet  \\\n",
      "0          2 BHK Apartment for Sale in Dindoli Surat  Carpet Area    644 sqft   \n",
      "1           2 BHK Apartment for Sale in Althan Surat   Super Area   1278 sqft   \n",
      "2          2 BHK Apartment for Sale in Pal Gam Surat   Super Area   1173 sqft   \n",
      "3     2 BHK Apartment for Sale in Jahangirabad Surat  Carpet Area    700 sqft   \n",
      "4  2 BHK Apartment for Sale in Orchid Fantasia, P...   Super Area   1250 sqft   \n",
      "\n",
      "       transaction            status        floor      furnishing  \\\n",
      "0     New Property  Poss. by Oct '24  5 out of 10     Unfurnished   \n",
      "1     New Property  Poss. by Jan '26  6 out of 14     Unfurnished   \n",
      "2           Resale     Ready to Move  5 out of 13  Semi-Furnished   \n",
      "3     New Property     Ready to Move  6 out of 14     Unfurnished   \n",
      "4  Orchid Fantasia      New Property  Unfurnished               2   \n",
      "\n",
      "        facing                                        description  \\\n",
      "0         West  Luxury project with basement parking, Solar ro...   \n",
      "1  South -West  2 And 3 BHK Luxurious Flat for Sell In New Alt...   \n",
      "2         East  This affordable 2 BHK flat is situated along a...   \n",
      "3         East  2 BHK Flat For sell IN Jahangirabad Prime Loca...   \n",
      "4            2  Multistorey Apartment for Sale in Palanpur, Su...   \n",
      "\n",
      "     price_per_sqft       price  \n",
      "0  ₹2,891 per sqft   ₹33.8 Lac   \n",
      "1  ₹3,551 per sqft   ₹45.4 Lac   \n",
      "2  ₹3,800 per sqft   ₹44.6 Lac   \n",
      "3  ₹3,966 per sqft     ₹47 Lac   \n",
      "4  ₹3,600 per sqft     ₹45 Lac   \n"
     ]
    }
   ],
   "source": [
    "# Display first few rows\n",
    "print(df.head())"
   ]
  },
  {
   "cell_type": "code",
   "execution_count": 3,
   "id": "187856d7-8491-4be7-9acc-95342d0563ee",
   "metadata": {},
   "outputs": [
    {
     "name": "stdout",
     "output_type": "stream",
     "text": [
      "<class 'pandas.core.frame.DataFrame'>\n",
      "RangeIndex: 4525 entries, 0 to 4524\n",
      "Data columns (total 11 columns):\n",
      " #   Column          Non-Null Count  Dtype \n",
      "---  ------          --------------  ----- \n",
      " 0   property_name   4525 non-null   object\n",
      " 1   areaWithType    4525 non-null   object\n",
      " 2   square_feet     4525 non-null   object\n",
      " 3   transaction     4421 non-null   object\n",
      " 4   status          4524 non-null   object\n",
      " 5   floor           4480 non-null   object\n",
      " 6   furnishing      4185 non-null   object\n",
      " 7   facing          3936 non-null   object\n",
      " 8   description     3154 non-null   object\n",
      " 9   price_per_sqft  4157 non-null   object\n",
      " 10  price           4525 non-null   object\n",
      "dtypes: object(11)\n",
      "memory usage: 389.0+ KB\n",
      "None\n"
     ]
    }
   ],
   "source": [
    "# Get a summary of the dataset\n",
    "print(df.info())"
   ]
  },
  {
   "cell_type": "code",
   "execution_count": 4,
   "id": "876562cf-63ac-4626-a545-37d10b0bfca7",
   "metadata": {},
   "outputs": [
    {
     "name": "stdout",
     "output_type": "stream",
     "text": [
      "                                 property_name areaWithType square_feet  \\\n",
      "count                                     4525         4525        4525   \n",
      "unique                                    1992            6        1399   \n",
      "top     3 BHK Apartment for Sale in Vesu Surat   Super Area   1000 sqft   \n",
      "freq                                        93         2599          77   \n",
      "\n",
      "       transaction         status   floor   furnishing facing  \\\n",
      "count         4421           4524    4480         4185   3936   \n",
      "unique          38            138     222           78    176   \n",
      "top         Resale  Ready to Move  Resale  Unfurnished   East   \n",
      "freq          2197           3078     431         2322   1487   \n",
      "\n",
      "                                              description    price_per_sqft  \\\n",
      "count                                                3154              4157   \n",
      "unique                                               2588              2134   \n",
      "top     Multistorey apartment is available for sale. I...  ₹6,000 per sqft    \n",
      "freq                                                   35                64   \n",
      "\n",
      "                 price  \n",
      "count             4525  \n",
      "unique             841  \n",
      "top     Call for Price  \n",
      "freq               173  \n"
     ]
    }
   ],
   "source": [
    "# Statistical summary for numerical columns\n",
    "print(df.describe())"
   ]
  },
  {
   "cell_type": "code",
   "execution_count": 5,
   "id": "20c30654-b550-426b-9101-be6247abf3ed",
   "metadata": {},
   "outputs": [
    {
     "name": "stdout",
     "output_type": "stream",
     "text": [
      "property_name        0\n",
      "areaWithType         0\n",
      "square_feet          0\n",
      "transaction        104\n",
      "status               1\n",
      "floor               45\n",
      "furnishing         340\n",
      "facing             589\n",
      "description       1371\n",
      "price_per_sqft     368\n",
      "price                0\n",
      "dtype: int64\n"
     ]
    }
   ],
   "source": [
    "# Check for missing values\n",
    "print(df.isnull().sum())"
   ]
  },
  {
   "cell_type": "code",
   "execution_count": 6,
   "id": "14cd6878-7f3c-4701-9cb9-eeb6579e1cfe",
   "metadata": {},
   "outputs": [],
   "source": [
    "# Handle missing values\n",
    "# Option 1: Drop rows with missing values\n",
    "df = df.dropna()"
   ]
  },
  {
   "cell_type": "code",
   "execution_count": 7,
   "id": "50c49346-5011-4710-95a0-141003a28e9e",
   "metadata": {},
   "outputs": [],
   "source": [
    "import re"
   ]
  },
  {
   "cell_type": "code",
   "execution_count": 8,
   "id": "d1c0d1c9-15af-443a-8faa-963878ed2aab",
   "metadata": {},
   "outputs": [
    {
     "name": "stdout",
     "output_type": "stream",
     "text": [
      "0\n"
     ]
    }
   ],
   "source": [
    "# Function to clean and convert to numeric\n",
    "def clean_price_per_sqft(value):\n",
    "    # Remove non-numeric characters and convert to float\n",
    "    cleaned_value = re.sub(r'[^\\d.]+', '', str(value))\n",
    "    return pd.to_numeric(cleaned_value, errors='coerce')\n",
    "\n",
    "# Apply the function to the 'price_per_sqft' column\n",
    "df['price_per_sqft'] = df['price_per_sqft'].apply(clean_price_per_sqft)\n",
    "\n",
    "# Check for any remaining non-numeric entries\n",
    "print(df['price_per_sqft'].isnull().sum())"
   ]
  },
  {
   "cell_type": "code",
   "execution_count": 9,
   "id": "4156af6a-824a-477c-9ade-7d68c65092c3",
   "metadata": {},
   "outputs": [
    {
     "name": "stdout",
     "output_type": "stream",
     "text": [
      "count      2674.000000\n",
      "mean       5932.923336\n",
      "std        7954.269456\n",
      "min           4.000000\n",
      "25%        3837.250000\n",
      "50%        4750.000000\n",
      "75%        6000.000000\n",
      "max      152459.000000\n",
      "Name: price_per_sqft, dtype: float64\n"
     ]
    }
   ],
   "source": [
    "# Calculate the mean of the 'price_per_sqft' column\n",
    "mean_price_per_sqft = df['price_per_sqft'].mean()\n",
    "\n",
    "# Fill missing values with the mean\n",
    "df['price_per_sqft'] = df['price_per_sqft'].fillna(mean_price_per_sqft)\n",
    "\n",
    "# Verify the changes\n",
    "print(df['price_per_sqft'].describe())"
   ]
  },
  {
   "cell_type": "code",
   "execution_count": 10,
   "id": "97415f71-21de-44bf-8086-e47a08bced7a",
   "metadata": {},
   "outputs": [],
   "source": [
    "# For categorical columns like 'furnishing'\n",
    "df['furnishing'] = df['furnishing'].str.strip().fillna('Unfurnished')"
   ]
  },
  {
   "cell_type": "code",
   "execution_count": 11,
   "id": "7eb9ca45-3e4b-42a3-8f43-c9c58bcab219",
   "metadata": {},
   "outputs": [],
   "source": [
    "# Convert 'price' and 'square_feet' to numeric\n",
    "df['price'] = pd.to_numeric(df['price'], errors='coerce')\n",
    "df['square_feet'] = pd.to_numeric(df['square_feet'], errors='coerce')\n",
    "\n",
    "# Drop rows where conversion resulted in NaN\n",
    "df = df.dropna(subset=['price', 'square_feet'])"
   ]
  },
  {
   "cell_type": "code",
   "execution_count": 12,
   "id": "890ad443-9a91-4f74-a0c5-a36c8de390c1",
   "metadata": {},
   "outputs": [],
   "source": [
    "# Extract area and type from 'areaWithType'\n",
    "df[['area', 'type']] = df['areaWithType'].str.extract(r'(?P<area>.*?)(?P<type> [a-zA-Z]+)')\n",
    "df = df.drop(columns=['areaWithType'])\n",
    "\n",
    "# Strip spaces from 'area' and 'type'\n",
    "df['area'] = df['area'].str.strip()\n",
    "df['type'] = df['type'].str.strip()"
   ]
  },
  {
   "cell_type": "code",
   "execution_count": 13,
   "id": "ff3179c1-4062-40fc-95de-f4a54d44170f",
   "metadata": {},
   "outputs": [],
   "source": [
    "# Remove duplicate rows\n",
    "df = df.drop_duplicates()"
   ]
  },
  {
   "cell_type": "code",
   "execution_count": 14,
   "id": "1abca1fd-9039-4bde-a522-d39b83cf4100",
   "metadata": {},
   "outputs": [],
   "source": [
    "# Convert price and square_feet to numeric, coerce errors\n",
    "df['price'] = pd.to_numeric(df['price'], errors='coerce')\n",
    "df['square_feet'] = pd.to_numeric(df['square_feet'], errors='coerce')"
   ]
  },
  {
   "cell_type": "code",
   "execution_count": 15,
   "id": "af18e480-fca0-4f69-9012-fec127ceca50",
   "metadata": {},
   "outputs": [],
   "source": [
    "# Drop rows where conversion resulted in NaN\n",
    "df = df.dropna(subset=['price', 'square_feet'])"
   ]
  },
  {
   "cell_type": "code",
   "execution_count": 16,
   "id": "da5a6571-563e-4755-aef0-904d0b5fdcbe",
   "metadata": {},
   "outputs": [
    {
     "ename": "KeyError",
     "evalue": "'areaWithType'",
     "output_type": "error",
     "traceback": [
      "\u001b[0;31m---------------------------------------------------------------------------\u001b[0m",
      "\u001b[0;31mKeyError\u001b[0m                                  Traceback (most recent call last)",
      "File \u001b[0;32m~/.local/lib/python3.10/site-packages/pandas/core/indexes/base.py:3805\u001b[0m, in \u001b[0;36mIndex.get_loc\u001b[0;34m(self, key)\u001b[0m\n\u001b[1;32m   3804\u001b[0m \u001b[38;5;28;01mtry\u001b[39;00m:\n\u001b[0;32m-> 3805\u001b[0m     \u001b[38;5;28;01mreturn\u001b[39;00m \u001b[38;5;28;43mself\u001b[39;49m\u001b[38;5;241;43m.\u001b[39;49m\u001b[43m_engine\u001b[49m\u001b[38;5;241;43m.\u001b[39;49m\u001b[43mget_loc\u001b[49m\u001b[43m(\u001b[49m\u001b[43mcasted_key\u001b[49m\u001b[43m)\u001b[49m\n\u001b[1;32m   3806\u001b[0m \u001b[38;5;28;01mexcept\u001b[39;00m \u001b[38;5;167;01mKeyError\u001b[39;00m \u001b[38;5;28;01mas\u001b[39;00m err:\n",
      "File \u001b[0;32mindex.pyx:167\u001b[0m, in \u001b[0;36mpandas._libs.index.IndexEngine.get_loc\u001b[0;34m()\u001b[0m\n",
      "File \u001b[0;32mindex.pyx:196\u001b[0m, in \u001b[0;36mpandas._libs.index.IndexEngine.get_loc\u001b[0;34m()\u001b[0m\n",
      "File \u001b[0;32mpandas/_libs/hashtable_class_helper.pxi:7081\u001b[0m, in \u001b[0;36mpandas._libs.hashtable.PyObjectHashTable.get_item\u001b[0;34m()\u001b[0m\n",
      "File \u001b[0;32mpandas/_libs/hashtable_class_helper.pxi:7089\u001b[0m, in \u001b[0;36mpandas._libs.hashtable.PyObjectHashTable.get_item\u001b[0;34m()\u001b[0m\n",
      "\u001b[0;31mKeyError\u001b[0m: 'areaWithType'",
      "\nThe above exception was the direct cause of the following exception:\n",
      "\u001b[0;31mKeyError\u001b[0m                                  Traceback (most recent call last)",
      "Cell \u001b[0;32mIn[16], line 3\u001b[0m\n\u001b[1;32m      1\u001b[0m \u001b[38;5;66;03m# Strip leading/trailing spaces from string columns\u001b[39;00m\n\u001b[1;32m      2\u001b[0m df[\u001b[38;5;124m'\u001b[39m\u001b[38;5;124mproperty_name\u001b[39m\u001b[38;5;124m'\u001b[39m] \u001b[38;5;241m=\u001b[39m df[\u001b[38;5;124m'\u001b[39m\u001b[38;5;124mproperty_name\u001b[39m\u001b[38;5;124m'\u001b[39m]\u001b[38;5;241m.\u001b[39mstr\u001b[38;5;241m.\u001b[39mstrip()\n\u001b[0;32m----> 3\u001b[0m df[\u001b[38;5;124m'\u001b[39m\u001b[38;5;124mareaWithType\u001b[39m\u001b[38;5;124m'\u001b[39m] \u001b[38;5;241m=\u001b[39m \u001b[43mdf\u001b[49m\u001b[43m[\u001b[49m\u001b[38;5;124;43m'\u001b[39;49m\u001b[38;5;124;43mareaWithType\u001b[39;49m\u001b[38;5;124;43m'\u001b[39;49m\u001b[43m]\u001b[49m\u001b[38;5;241m.\u001b[39mstr\u001b[38;5;241m.\u001b[39mstrip()\n",
      "File \u001b[0;32m~/.local/lib/python3.10/site-packages/pandas/core/frame.py:4102\u001b[0m, in \u001b[0;36mDataFrame.__getitem__\u001b[0;34m(self, key)\u001b[0m\n\u001b[1;32m   4100\u001b[0m \u001b[38;5;28;01mif\u001b[39;00m \u001b[38;5;28mself\u001b[39m\u001b[38;5;241m.\u001b[39mcolumns\u001b[38;5;241m.\u001b[39mnlevels \u001b[38;5;241m>\u001b[39m \u001b[38;5;241m1\u001b[39m:\n\u001b[1;32m   4101\u001b[0m     \u001b[38;5;28;01mreturn\u001b[39;00m \u001b[38;5;28mself\u001b[39m\u001b[38;5;241m.\u001b[39m_getitem_multilevel(key)\n\u001b[0;32m-> 4102\u001b[0m indexer \u001b[38;5;241m=\u001b[39m \u001b[38;5;28;43mself\u001b[39;49m\u001b[38;5;241;43m.\u001b[39;49m\u001b[43mcolumns\u001b[49m\u001b[38;5;241;43m.\u001b[39;49m\u001b[43mget_loc\u001b[49m\u001b[43m(\u001b[49m\u001b[43mkey\u001b[49m\u001b[43m)\u001b[49m\n\u001b[1;32m   4103\u001b[0m \u001b[38;5;28;01mif\u001b[39;00m is_integer(indexer):\n\u001b[1;32m   4104\u001b[0m     indexer \u001b[38;5;241m=\u001b[39m [indexer]\n",
      "File \u001b[0;32m~/.local/lib/python3.10/site-packages/pandas/core/indexes/base.py:3812\u001b[0m, in \u001b[0;36mIndex.get_loc\u001b[0;34m(self, key)\u001b[0m\n\u001b[1;32m   3807\u001b[0m     \u001b[38;5;28;01mif\u001b[39;00m \u001b[38;5;28misinstance\u001b[39m(casted_key, \u001b[38;5;28mslice\u001b[39m) \u001b[38;5;129;01mor\u001b[39;00m (\n\u001b[1;32m   3808\u001b[0m         \u001b[38;5;28misinstance\u001b[39m(casted_key, abc\u001b[38;5;241m.\u001b[39mIterable)\n\u001b[1;32m   3809\u001b[0m         \u001b[38;5;129;01mand\u001b[39;00m \u001b[38;5;28many\u001b[39m(\u001b[38;5;28misinstance\u001b[39m(x, \u001b[38;5;28mslice\u001b[39m) \u001b[38;5;28;01mfor\u001b[39;00m x \u001b[38;5;129;01min\u001b[39;00m casted_key)\n\u001b[1;32m   3810\u001b[0m     ):\n\u001b[1;32m   3811\u001b[0m         \u001b[38;5;28;01mraise\u001b[39;00m InvalidIndexError(key)\n\u001b[0;32m-> 3812\u001b[0m     \u001b[38;5;28;01mraise\u001b[39;00m \u001b[38;5;167;01mKeyError\u001b[39;00m(key) \u001b[38;5;28;01mfrom\u001b[39;00m \u001b[38;5;21;01merr\u001b[39;00m\n\u001b[1;32m   3813\u001b[0m \u001b[38;5;28;01mexcept\u001b[39;00m \u001b[38;5;167;01mTypeError\u001b[39;00m:\n\u001b[1;32m   3814\u001b[0m     \u001b[38;5;66;03m# If we have a listlike key, _check_indexing_error will raise\u001b[39;00m\n\u001b[1;32m   3815\u001b[0m     \u001b[38;5;66;03m#  InvalidIndexError. Otherwise we fall through and re-raise\u001b[39;00m\n\u001b[1;32m   3816\u001b[0m     \u001b[38;5;66;03m#  the TypeError.\u001b[39;00m\n\u001b[1;32m   3817\u001b[0m     \u001b[38;5;28mself\u001b[39m\u001b[38;5;241m.\u001b[39m_check_indexing_error(key)\n",
      "\u001b[0;31mKeyError\u001b[0m: 'areaWithType'"
     ]
    }
   ],
   "source": [
    "# Strip leading/trailing spaces from string columns\n",
    "df['property_name'] = df['property_name'].str.strip()\n",
    "df['areaWithType'] = df['areaWithType'].str.strip()"
   ]
  },
  {
   "cell_type": "code",
   "execution_count": null,
   "id": "770f5355-6f4e-48ff-88fb-7bec7317581a",
   "metadata": {},
   "outputs": [],
   "source": [
    "# Ensure consistent formatting for categorical columns\n",
    "df['facing'] = df['facing'].str.capitalize()\n",
    "df['status'] = df['status'].str.lower()"
   ]
  },
  {
   "cell_type": "code",
   "execution_count": null,
   "id": "26b92bc8-a7a4-4ec3-b9b5-1ed8a69b7c1b",
   "metadata": {},
   "outputs": [],
   "source": [
    "# Extract area and type from 'areaWithType'\n",
    "df[['area', 'type']] = df['areaWithType'].str.extract(r'(?P<area>.*?)(?P<type> [a-zA-Z]+)')\n",
    "\n",
    "# Remove the original 'areaWithType' column\n",
    "df = df.drop(columns=['areaWithType'])\n",
    "\n",
    "# Calculate price per square foot if missing\n",
    "df['price_per_sqft'] = df['price'] / df['square_feet']\n",
    "\n",
    "# Convert categorical data into categorical types\n",
    "df['transaction'] = df['transaction'].astype('category')\n",
    "df['status'] = df['status'].astype('category')\n",
    "df['furnishing'] = df['furnishing'].astype('category')\n",
    "df['facing'] = df['facing'].astype('category')"
   ]
  },
  {
   "cell_type": "code",
   "execution_count": null,
   "id": "b3362c2e-0f17-49dd-94e7-2193c4cb43f0",
   "metadata": {},
   "outputs": [],
   "source": []
  }
 ],
 "metadata": {
  "kernelspec": {
   "display_name": "Python 3 (ipykernel)",
   "language": "python",
   "name": "python3"
  },
  "language_info": {
   "codemirror_mode": {
    "name": "ipython",
    "version": 3
   },
   "file_extension": ".py",
   "mimetype": "text/x-python",
   "name": "python",
   "nbconvert_exporter": "python",
   "pygments_lexer": "ipython3",
   "version": "3.10.12"
  }
 },
 "nbformat": 4,
 "nbformat_minor": 5
}
